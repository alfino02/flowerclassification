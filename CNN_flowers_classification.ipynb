{
  "cells": [
    {
      "cell_type": "markdown",
      "metadata": {
        "id": "view-in-github",
        "colab_type": "text"
      },
      "source": [
        "<a href=\"https://colab.research.google.com/github/alfino02/flowerclassification/blob/main/CNN_flowers_classification.ipynb\" target=\"_parent\"><img src=\"https://colab.research.google.com/assets/colab-badge.svg\" alt=\"Open In Colab\"/></a>"
      ]
    },
    {
      "cell_type": "code",
      "execution_count": null,
      "metadata": {
        "colab": {
          "base_uri": "https://localhost:8080/"
        },
        "id": "rjyPoA5NgEAg",
        "outputId": "e9250e6a-a9a8-4320-fb33-8edda2e554b5"
      },
      "outputs": [
        {
          "output_type": "stream",
          "name": "stdout",
          "text": [
            "Mounted at /content/drive\n"
          ]
        }
      ],
      "source": [
        "from google.colab import drive\n",
        "drive.mount('/content/drive')"
      ]
    },
    {
      "cell_type": "code",
      "execution_count": null,
      "metadata": {
        "colab": {
          "base_uri": "https://localhost:8080/"
        },
        "id": "txGEj0MtZZid",
        "outputId": "128dabcf-4ca1-4b6d-bc55-0da57618619e"
      },
      "outputs": [
        {
          "output_type": "stream",
          "name": "stdout",
          "text": [
            "['dandelion', 'daisy', 'tulip']\n"
          ]
        }
      ],
      "source": [
        "import os\n",
        "print(os.listdir(\"/content/drive/MyDrive/dataset/flowers\"))\n",
        "train_dir = \"/content/drive/MyDrive/dataset/flowers\""
      ]
    },
    {
      "cell_type": "code",
      "execution_count": null,
      "metadata": {
        "id": "TtjHl_EleJZI"
      },
      "outputs": [],
      "source": [
        "from google.colab import files\n",
        "import tensorflow as tf\n",
        "import matplotlib.pyplot as plt\n",
        "import numpy as np\n",
        "import matplotlib.image as mpimg\n",
        "from tensorflow.keras.preprocessing.image import ImageDataGenerator\n",
        "from sklearn.metrics import classification_report, confusion_matrix\n",
        "from keras.preprocessing import image\n",
        "from keras.callbacks import ReduceLROnPlateau"
      ]
    },
    {
      "cell_type": "markdown",
      "metadata": {
        "id": "MJ397zVRpVek"
      },
      "source": [
        "# Preprocessing"
      ]
    },
    {
      "cell_type": "code",
      "execution_count": null,
      "metadata": {
        "colab": {
          "base_uri": "https://localhost:8080/"
        },
        "id": "Cv1lHazaeSuN",
        "outputId": "8c7ad84b-5a00-49e9-af85-2787966c9905"
      },
      "outputs": [
        {
          "output_type": "stream",
          "name": "stdout",
          "text": [
            "Found 1682 images belonging to 3 classes.\n",
            "Found 1118 images belonging to 3 classes.\n"
          ]
        }
      ],
      "source": [
        "train_datagen = ImageDataGenerator(\n",
        "                rescale=1./255,\n",
        "                rotation_range=20,\n",
        "                horizontal_flip=True,\n",
        "                shear_range = 0.2,\n",
        "                fill_mode = 'nearest',\n",
        "                validation_split=0.4)\n",
        "\n",
        "validation_datagen = ImageDataGenerator(rescale = 1.0/255,\n",
        "                                        validation_split=0.4)\n",
        "\n",
        "train_generator = train_datagen.flow_from_directory(\n",
        "        train_dir,\n",
        "        target_size=(100,150),\n",
        "        batch_size=64,\n",
        "        class_mode='categorical',\n",
        "        subset='training')\n",
        "\n",
        "validation_generator = validation_datagen.flow_from_directory(\n",
        "        train_dir,\n",
        "        target_size=(100,150),\n",
        "        batch_size=64,\n",
        "        class_mode='categorical',\n",
        "        subset='validation')"
      ]
    },
    {
      "cell_type": "code",
      "execution_count": null,
      "metadata": {
        "id": "_jZrYTuOeVUo"
      },
      "outputs": [],
      "source": [
        "model = tf.keras.models.Sequential([\n",
        "    tf.keras.layers.Conv2D(16, (3, 3), activation='relu', input_shape=(100, 150, 3)),\n",
        "    tf.keras.layers.MaxPooling2D(2, 2),\n",
        "    tf.keras.layers.Dropout(0.2),\n",
        "    tf.keras.layers.Conv2D(16, (3, 3), activation='relu'),\n",
        "    tf.keras.layers.MaxPooling2D(2, 2),\n",
        "    tf.keras.layers.Dropout(0.2),\n",
        "    tf.keras.layers.Conv2D(32, (3, 3), activation='relu'),\n",
        "    tf.keras.layers.MaxPooling2D(2, 2),\n",
        "    tf.keras.layers.Dropout(0.2),\n",
        "    tf.keras.layers.Flatten(),\n",
        "    tf.keras.layers.Dense(64, activation='relu'),\n",
        "    tf.keras.layers.Dropout(0.2),\n",
        "    tf.keras.layers.Dense(3, activation='softmax')\n",
        "])"
      ]
    },
    {
      "cell_type": "code",
      "execution_count": null,
      "metadata": {
        "colab": {
          "base_uri": "https://localhost:8080/"
        },
        "id": "kDk_tkvyecNy",
        "outputId": "d3b846db-0e0d-4259-bcac-bc62b7dbce85"
      },
      "outputs": [
        {
          "output_type": "stream",
          "name": "stdout",
          "text": [
            "Epoch 1/25\n",
            "27/27 [==============================] - 524s 20s/step - loss: 1.0037 - accuracy: 0.4982 - val_loss: 0.9525 - val_accuracy: 0.5242 - lr: 0.0010\n",
            "Epoch 2/25\n",
            "27/27 [==============================] - 57s 2s/step - loss: 0.8643 - accuracy: 0.5910 - val_loss: 0.8876 - val_accuracy: 0.5689 - lr: 0.0010\n",
            "Epoch 3/25\n",
            "27/27 [==============================] - 46s 2s/step - loss: 0.7860 - accuracy: 0.6373 - val_loss: 0.8402 - val_accuracy: 0.6449 - lr: 0.0010\n",
            "Epoch 4/25\n",
            "27/27 [==============================] - 56s 2s/step - loss: 0.7503 - accuracy: 0.6587 - val_loss: 0.8585 - val_accuracy: 0.5903 - lr: 0.0010\n",
            "Epoch 5/25\n",
            "27/27 [==============================] - ETA: 0s - loss: 0.7535 - accuracy: 0.6546\n",
            "Epoch 5: ReduceLROnPlateau reducing learning rate to 0.0005000000237487257.\n",
            "27/27 [==============================] - 47s 2s/step - loss: 0.7535 - accuracy: 0.6546 - val_loss: 0.8129 - val_accuracy: 0.6234 - lr: 0.0010\n",
            "Epoch 6/25\n",
            "27/27 [==============================] - 56s 2s/step - loss: 0.7122 - accuracy: 0.6950 - val_loss: 0.8368 - val_accuracy: 0.6055 - lr: 5.0000e-04\n",
            "Epoch 7/25\n",
            "27/27 [==============================] - ETA: 0s - loss: 0.6870 - accuracy: 0.7170\n",
            "Epoch 7: ReduceLROnPlateau reducing learning rate to 0.0002500000118743628.\n",
            "27/27 [==============================] - 45s 2s/step - loss: 0.6870 - accuracy: 0.7170 - val_loss: 0.8194 - val_accuracy: 0.6109 - lr: 5.0000e-04\n",
            "Epoch 8/25\n",
            "27/27 [==============================] - 56s 2s/step - loss: 0.6751 - accuracy: 0.7111 - val_loss: 0.8291 - val_accuracy: 0.6181 - lr: 2.5000e-04\n",
            "Epoch 9/25\n",
            "27/27 [==============================] - ETA: 0s - loss: 0.6724 - accuracy: 0.7212\n",
            "Epoch 9: ReduceLROnPlateau reducing learning rate to 0.0001250000059371814.\n",
            "27/27 [==============================] - 48s 2s/step - loss: 0.6724 - accuracy: 0.7212 - val_loss: 0.7841 - val_accuracy: 0.6431 - lr: 2.5000e-04\n",
            "Epoch 10/25\n",
            "27/27 [==============================] - 47s 2s/step - loss: 0.6596 - accuracy: 0.7354 - val_loss: 0.7825 - val_accuracy: 0.6458 - lr: 1.2500e-04\n",
            "Epoch 11/25\n",
            "27/27 [==============================] - 48s 2s/step - loss: 0.6520 - accuracy: 0.7283 - val_loss: 0.7953 - val_accuracy: 0.6386 - lr: 1.2500e-04\n",
            "Epoch 12/25\n",
            "27/27 [==============================] - ETA: 0s - loss: 0.6364 - accuracy: 0.7408\n",
            "Epoch 12: ReduceLROnPlateau reducing learning rate to 6.25000029685907e-05.\n",
            "27/27 [==============================] - 47s 2s/step - loss: 0.6364 - accuracy: 0.7408 - val_loss: 0.7971 - val_accuracy: 0.6386 - lr: 1.2500e-04\n",
            "Epoch 13/25\n",
            "27/27 [==============================] - 48s 2s/step - loss: 0.6389 - accuracy: 0.7449 - val_loss: 0.7852 - val_accuracy: 0.6449 - lr: 6.2500e-05\n",
            "Epoch 14/25\n",
            "27/27 [==============================] - 62s 2s/step - loss: 0.6434 - accuracy: 0.7420 - val_loss: 0.7820 - val_accuracy: 0.6467 - lr: 6.2500e-05\n",
            "Epoch 15/25\n",
            "27/27 [==============================] - 47s 2s/step - loss: 0.6390 - accuracy: 0.7420 - val_loss: 0.8239 - val_accuracy: 0.6306 - lr: 6.2500e-05\n",
            "Epoch 16/25\n",
            "27/27 [==============================] - ETA: 0s - loss: 0.6397 - accuracy: 0.7479\n",
            "Epoch 16: ReduceLROnPlateau reducing learning rate to 3.125000148429535e-05.\n",
            "27/27 [==============================] - 46s 2s/step - loss: 0.6397 - accuracy: 0.7479 - val_loss: 0.7946 - val_accuracy: 0.6440 - lr: 6.2500e-05\n",
            "Epoch 17/25\n",
            "27/27 [==============================] - 48s 2s/step - loss: 0.6347 - accuracy: 0.7473 - val_loss: 0.8105 - val_accuracy: 0.6360 - lr: 3.1250e-05\n",
            "Epoch 18/25\n",
            "27/27 [==============================] - ETA: 0s - loss: 0.6300 - accuracy: 0.7461\n",
            "Epoch 18: ReduceLROnPlateau reducing learning rate to 1.5625000742147677e-05.\n",
            "27/27 [==============================] - 57s 2s/step - loss: 0.6300 - accuracy: 0.7461 - val_loss: 0.7934 - val_accuracy: 0.6458 - lr: 3.1250e-05\n",
            "Epoch 19/25\n",
            "27/27 [==============================] - 58s 2s/step - loss: 0.6283 - accuracy: 0.7509 - val_loss: 0.7996 - val_accuracy: 0.6440 - lr: 1.5625e-05\n",
            "Epoch 20/25\n",
            "27/27 [==============================] - ETA: 0s - loss: 0.6306 - accuracy: 0.7562\n",
            "Epoch 20: ReduceLROnPlateau reducing learning rate to 7.812500371073838e-06.\n",
            "27/27 [==============================] - 48s 2s/step - loss: 0.6306 - accuracy: 0.7562 - val_loss: 0.8047 - val_accuracy: 0.6404 - lr: 1.5625e-05\n",
            "Epoch 21/25\n",
            "27/27 [==============================] - 57s 2s/step - loss: 0.6306 - accuracy: 0.7432 - val_loss: 0.8032 - val_accuracy: 0.6395 - lr: 7.8125e-06\n",
            "Epoch 22/25\n",
            "27/27 [==============================] - ETA: 0s - loss: 0.6217 - accuracy: 0.7444\n",
            "Epoch 22: ReduceLROnPlateau reducing learning rate to 3.906250185536919e-06.\n",
            "27/27 [==============================] - 48s 2s/step - loss: 0.6217 - accuracy: 0.7444 - val_loss: 0.8029 - val_accuracy: 0.6404 - lr: 7.8125e-06\n",
            "Epoch 23/25\n",
            "27/27 [==============================] - 47s 2s/step - loss: 0.6218 - accuracy: 0.7515 - val_loss: 0.8014 - val_accuracy: 0.6404 - lr: 3.9063e-06\n",
            "Epoch 24/25\n",
            "27/27 [==============================] - ETA: 0s - loss: 0.6192 - accuracy: 0.7509\n",
            "Epoch 24: ReduceLROnPlateau reducing learning rate to 3e-06.\n",
            "27/27 [==============================] - 47s 2s/step - loss: 0.6192 - accuracy: 0.7509 - val_loss: 0.8057 - val_accuracy: 0.6377 - lr: 3.9063e-06\n",
            "Epoch 25/25\n",
            "27/27 [==============================] - 46s 2s/step - loss: 0.6410 - accuracy: 0.7515 - val_loss: 0.8057 - val_accuracy: 0.6395 - lr: 3.0000e-06\n"
          ]
        }
      ],
      "source": [
        "learning_rate_reduction = ReduceLROnPlateau(monitor='val_accuracy',\n",
        "                                            patience=2,\n",
        "                                            verbose=1,\n",
        "                                            factor=0.5,\n",
        "                                            min_lr=0.000003)\n",
        "\n",
        "model.compile(loss='categorical_crossentropy',\n",
        "              optimizer='adam',\n",
        "              metrics=['accuracy'])\n",
        "\n",
        "history = model.fit(\n",
        "    train_generator,\n",
        "    # epochs=10,\n",
        "    epochs=25,\n",
        "    validation_data=validation_generator,\n",
        "    callbacks=[learning_rate_reduction])"
      ]
    },
    {
      "cell_type": "code",
      "execution_count": null,
      "metadata": {
        "id": "ltCAC0vJeehS"
      },
      "outputs": [],
      "source": [
        "def eval_plot(history):\n",
        "\n",
        "  plt.figure(figsize=(14, 5))\n",
        "\n",
        "  # Accuracy plot\n",
        "  plt.subplot(1, 2, 1)\n",
        "  acc = history.history['accuracy']\n",
        "  val_acc = history.history['val_accuracy']\n",
        "  epochs = range(len(acc))\n",
        "  acc_plot, = plt.plot(epochs, acc, 'r')\n",
        "  val_acc_plot, = plt.plot(epochs, val_acc, 'b')\n",
        "  plt.title('Training and Validation Accuracy')\n",
        "  plt.legend([acc_plot, val_acc_plot], ['Training Accuracy', 'Validation Accuracy'])\n",
        "\n",
        "  # Loss plot\n",
        "  plt.subplot(1, 2, 2)\n",
        "  loss = history.history['loss']\n",
        "  val_loss = history.history['val_loss']\n",
        "  epochs = range(len(loss))\n",
        "  loss_plot, = plt.plot(epochs, loss, 'r')\n",
        "  val_loss_plot, = plt.plot(epochs, val_loss, 'b')\n",
        "  plt.title('Training and Validation Loss')\n",
        "  plt.legend([loss_plot, val_loss_plot], ['Training Loss', 'Validation Loss'])"
      ]
    },
    {
      "cell_type": "code",
      "execution_count": null,
      "metadata": {
        "id": "EBNwoobcegBu"
      },
      "outputs": [],
      "source": [
        "def evaluate(model):\n",
        "\n",
        "  validation_generator = train_datagen.flow_from_directory(\n",
        "          train_dir,\n",
        "          target_size=(100,150),\n",
        "          batch_size=32,\n",
        "          class_mode='categorical',\n",
        "          shuffle = False,\n",
        "          subset='validation')\n",
        "\n",
        "  batch_size = 32\n",
        "  num_of_test_samples = len(validation_generator.filenames)\n",
        "\n",
        "  Y_pred = model.predict_generator(validation_generator, num_of_test_samples // batch_size+1)\n",
        "  y_pred = np.argmax(Y_pred, axis=1)\n",
        "\n",
        "  print('\\nConfusion Matrix\\n')\n",
        "  print(confusion_matrix(validation_generator.classes, y_pred))\n",
        "\n",
        "\n",
        "  print('\\n\\nClassification Report\\n')\n",
        "  target_names = ['Dandelion', 'Daisy', 'Tulip']\n",
        "  print(classification_report(validation_generator.classes, y_pred, target_names=target_names))"
      ]
    },
    {
      "cell_type": "code",
      "execution_count": null,
      "metadata": {
        "colab": {
          "base_uri": "https://localhost:8080/",
          "height": 767
        },
        "id": "eB5DCseuehED",
        "outputId": "a9683b5d-b437-460d-e891-6662796cc2d4"
      },
      "outputs": [
        {
          "output_type": "stream",
          "name": "stdout",
          "text": [
            "Found 1118 images belonging to 3 classes.\n"
          ]
        },
        {
          "output_type": "stream",
          "name": "stderr",
          "text": [
            "<ipython-input-9-fe05f765767c>:14: UserWarning: `Model.predict_generator` is deprecated and will be removed in a future version. Please use `Model.predict`, which supports generators.\n",
            "  Y_pred = model.predict_generator(validation_generator, num_of_test_samples // batch_size+1)\n"
          ]
        },
        {
          "output_type": "stream",
          "name": "stdout",
          "text": [
            "\n",
            "Confusion Matrix\n",
            "\n",
            "[[ 41 253  11]\n",
            " [  3 410   7]\n",
            " [ 14 157 222]]\n",
            "\n",
            "\n",
            "Classification Report\n",
            "\n",
            "              precision    recall  f1-score   support\n",
            "\n",
            "   Dandelion       0.71      0.13      0.23       305\n",
            "       Daisy       0.50      0.98      0.66       420\n",
            "       Tulip       0.93      0.56      0.70       393\n",
            "\n",
            "    accuracy                           0.60      1118\n",
            "   macro avg       0.71      0.56      0.53      1118\n",
            "weighted avg       0.71      0.60      0.56      1118\n",
            "\n"
          ]
        },
        {
          "output_type": "display_data",
          "data": {
            "text/plain": [
              "<Figure size 1008x360 with 2 Axes>"
            ],
            "image/png": "[encoded data removed]"
          },
          "metadata": {
            "needs_background": "light"
          }
        }
      ],
      "source": [
        "eval_plot(history)\n",
        "evaluate(model)"
      ]
    },
    {
      "cell_type": "code",
      "execution_count": null,
      "metadata": {
        "id": "hDDh7VwVeiVQ"
      },
      "outputs": [],
      "source": [
        "def predict_image(image_upload, model = model):\n",
        "  im = image_upload\n",
        "  im_array = np.asarray(im)\n",
        "  im_array = im_array*(1/225)\n",
        "  im_input = tf.reshape(im_array, shape = [1, 100, 150, 3])\n",
        "\n",
        "  predict_proba = sorted(model.predict(im_input)[0])[2]\n",
        "  predict_class = np.argmax(model.predict(im_input))\n",
        "\n",
        "  if predict_class == 0:\n",
        "      predict_label = 'Daisy'\n",
        "  elif predict_class == 1:\n",
        "      predict_label = 'Dandelion'\n",
        "  elif predict_class == 2:\n",
        "      predict_label = 'Tulip'\n",
        "  else:\n",
        "    predict_label = 'Tidak Teridentifikasi'\n",
        "\n",
        "  print('\\n')\n",
        "  plt.show()\n",
        "  print(\"\\nImage prediction result: \", predict_label)\n",
        "  print(\"Probability: \", round(predict_proba*100,2), \"%\")\n",
        "  print('\\n')"
      ]
    },
    {
      "cell_type": "code",
      "execution_count": null,
      "metadata": {
        "colab": {
          "base_uri": "https://localhost:8080/",
          "height": 298
        },
        "id": "1hBdZ8Llejsh",
        "outputId": "73ed9860-728e-4920-e06d-3bcf705fcc37"
      },
      "outputs": [
        {
          "output_type": "display_data",
          "data": {
            "text/plain": [
              "<IPython.core.display.HTML object>"
            ],
            "text/html": [
              "\n",
              "     <input type=\"file\" id=\"files-d18ed205-bedc-4938-a7ac-7383b2e2c8aa\" name=\"files[]\" multiple disabled\n",
              "        style=\"border:none\" />\n",
              "     <output id=\"result-d18ed205-bedc-4938-a7ac-7383b2e2c8aa\">\n",
              "      Upload widget is only available when the cell has been executed in the\n",
              "      current browser session. Please rerun this cell to enable.\n",
              "      </output>\n",
              "      <script>// Copyright 2017 Google LLC\n",
              "//\n",
              "// Licensed under the Apache License, Version 2.0 (the \"License\");\n",
              "// you may not use this file except in compliance with the License.\n",
              "// You may obtain a copy of the License at\n",
              "//\n",
              "//      http://www.apache.org/licenses/LICENSE-2.0\n",
              "//\n",
              "// Unless required by applicable law or agreed to in writing, software\n",
              "// distributed under the License is distributed on an \"AS IS\" BASIS,\n",
              "// WITHOUT WARRANTIES OR CONDITIONS OF ANY KIND, either express or implied.\n",
              "// See the License for the specific language governing permissions and\n",
              "// limitations under the License.\n",
              "\n",
              "/**\n",
              " * @fileoverview Helpers for google.colab Python module.\n",
              " */\n",
              "(function(scope) {\n",
              "function span(text, styleAttributes = {}) {\n",
              "  const element = document.createElement('span');\n",
              "  element.textContent = text;\n",
              "  for (const key of Object.keys(styleAttributes)) {\n",
              "    element.style[key] = styleAttributes[key];\n",
              "  }\n",
              "  return element;\n",
              "}\n",
              "\n",
              "// Max number of bytes which will be uploaded at a time.\n",
              "const MAX_PAYLOAD_SIZE = 100 * 1024;\n",
              "\n",
              "function _uploadFiles(inputId, outputId) {\n",
              "  const steps = uploadFilesStep(inputId, outputId);\n",
              "  const outputElement = document.getElementById(outputId);\n",
              "  // Cache steps on the outputElement to make it available for the next call\n",
              "  // to uploadFilesContinue from Python.\n",
              "  outputElement.steps = steps;\n",
              "\n",
              "  return _uploadFilesContinue(outputId);\n",
              "}\n",
              "\n",
              "// This is roughly an async generator (not supported in the browser yet),\n",
              "// where there are multiple asynchronous steps and the Python side is going\n",
              "// to poll for completion of each step.\n",
              "// This uses a Promise to block the python side on completion of each step,\n",
              "// then passes the result of the previous step as the input to the next step.\n",
              "function _uploadFilesContinue(outputId) {\n",
              "  const outputElement = document.getElementById(outputId);\n",
              "  const steps = outputElement.steps;\n",
              "\n",
              "  const next = steps.next(outputElement.lastPromiseValue);\n",
              "  return Promise.resolve(next.value.promise).then((value) => {\n",
              "    // Cache the last promise value to make it available to the next\n",
              "    // step of the generator.\n",
              "    outputElement.lastPromiseValue = value;\n",
              "    return next.value.response;\n",
              "  });\n",
              "}\n",
              "\n",
              "/**\n",
              " * Generator function which is called between each async step of the upload\n",
              " * process.\n",
              " * @param {string} inputId Element ID of the input file picker element.\n",
              " * @param {string} outputId Element ID of the output display.\n",
              " * @return {!Iterable<!Object>} Iterable of next steps.\n",
              " */\n",
              "function* uploadFilesStep(inputId, outputId) {\n",
              "  const inputElement = document.getElementById(inputId);\n",
              "  inputElement.disabled = false;\n",
              "\n",
              "  const outputElement = document.getElementById(outputId);\n",
              "  outputElement.innerHTML = '';\n",
              "\n",
              "  const pickedPromise = new Promise((resolve) => {\n",
              "    inputElement.addEventListener('change', (e) => {\n",
              "      resolve(e.target.files);\n",
              "    });\n",
              "  });\n",
              "\n",
              "  const cancel = document.createElement('button');\n",
              "  inputElement.parentElement.appendChild(cancel);\n",
              "  cancel.textContent = 'Cancel upload';\n",
              "  const cancelPromise = new Promise((resolve) => {\n",
              "    cancel.onclick = () => {\n",
              "      resolve(null);\n",
              "    };\n",
              "  });\n",
              "\n",
              "  // Wait for the user to pick the files.\n",
              "  const files = yield {\n",
              "    promise: Promise.race([pickedPromise, cancelPromise]),\n",
              "    response: {\n",
              "      action: 'starting',\n",
              "    }\n",
              "  };\n",
              "\n",
              "  cancel.remove();\n",
              "\n",
              "  // Disable the input element since further picks are not allowed.\n",
              "  inputElement.disabled = true;\n",
              "\n",
              "  if (!files) {\n",
              "    return {\n",
              "      response: {\n",
              "        action: 'complete',\n",
              "      }\n",
              "    };\n",
              "  }\n",
              "\n",
              "  for (const file of files) {\n",
              "    const li = document.createElement('li');\n",
              "    li.append(span(file.name, {fontWeight: 'bold'}));\n",
              "    li.append(span(\n",
              "        `(${file.type || 'n/a'}) - ${file.size} bytes, ` +\n",
              "        `last modified: ${\n",
              "            file.lastModifiedDate ? file.lastModifiedDate.toLocaleDateString() :\n",
              "                                    'n/a'} - `));\n",
              "    const percent = span('0% done');\n",
              "    li.appendChild(percent);\n",
              "\n",
              "    outputElement.appendChild(li);\n",
              "\n",
              "    const fileDataPromise = new Promise((resolve) => {\n",
              "      const reader = new FileReader();\n",
              "      reader.onload = (e) => {\n",
              "        resolve(e.target.result);\n",
              "      };\n",
              "      reader.readAsArrayBuffer(file);\n",
              "    });\n",
              "    // Wait for the data to be ready.\n",
              "    let fileData = yield {\n",
              "      promise: fileDataPromise,\n",
              "      response: {\n",
              "        action: 'continue',\n",
              "      }\n",
              "    };\n",
              "\n",
              "    // Use a chunked sending to avoid message size limits. See b/62115660.\n",
              "    let position = 0;\n",
              "    do {\n",
              "      const length = Math.min(fileData.byteLength - position, MAX_PAYLOAD_SIZE);\n",
              "      const chunk = new Uint8Array(fileData, position, length);\n",
              "      position += length;\n",
              "\n",
              "      const base64 = btoa(String.fromCharCode.apply(null, chunk));\n",
              "      yield {\n",
              "        response: {\n",
              "          action: 'append',\n",
              "          file: file.name,\n",
              "          data: base64,\n",
              "        },\n",
              "      };\n",
              "\n",
              "      let percentDone = fileData.byteLength === 0 ?\n",
              "          100 :\n",
              "          Math.round((position / fileData.byteLength) * 100);\n",
              "      percent.textContent = `${percentDone}% done`;\n",
              "\n",
              "    } while (position < fileData.byteLength);\n",
              "  }\n",
              "\n",
              "  // All done.\n",
              "  yield {\n",
              "    response: {\n",
              "      action: 'complete',\n",
              "    }\n",
              "  };\n",
              "}\n",
              "\n",
              "scope.google = scope.google || {};\n",
              "scope.google.colab = scope.google.colab || {};\n",
              "scope.google.colab._files = {\n",
              "  _uploadFiles,\n",
              "  _uploadFilesContinue,\n",
              "};\n",
              "})(self);\n",
              "</script> "
            ]
          },
          "metadata": {}
        },
        {
          "output_type": "stream",
          "name": "stdout",
          "text": [
            "Saving tulip_coba.jpg to tulip_coba.jpg\n"
          ]
        },
        {
          "output_type": "error",
          "ename": "AttributeError",
          "evalue": "ignored",
          "traceback": [
            "\u001b[0;31m---------------------------------------------------------------------------\u001b[0m",
            "\u001b[0;31mAttributeError\u001b[0m                            Traceback (most recent call last)",
            "\u001b[0;32m<ipython-input-12-7493b6a53c75>\u001b[0m in \u001b[0;36m<module>\u001b[0;34m\u001b[0m\n\u001b[1;32m      3\u001b[0m \u001b[0;32mfor\u001b[0m \u001b[0mfn\u001b[0m \u001b[0;32min\u001b[0m \u001b[0muploaded\u001b[0m\u001b[0;34m.\u001b[0m\u001b[0mkeys\u001b[0m\u001b[0;34m(\u001b[0m\u001b[0;34m)\u001b[0m\u001b[0;34m:\u001b[0m\u001b[0;34m\u001b[0m\u001b[0;34m\u001b[0m\u001b[0m\n\u001b[1;32m      4\u001b[0m   \u001b[0mpath\u001b[0m \u001b[0;34m=\u001b[0m \u001b[0mfn\u001b[0m\u001b[0;34m\u001b[0m\u001b[0;34m\u001b[0m\u001b[0m\n\u001b[0;32m----> 5\u001b[0;31m   \u001b[0mimg\u001b[0m \u001b[0;34m=\u001b[0m \u001b[0mimage\u001b[0m\u001b[0;34m.\u001b[0m\u001b[0mload_img\u001b[0m\u001b[0;34m(\u001b[0m\u001b[0mpath\u001b[0m\u001b[0;34m,\u001b[0m \u001b[0mtarget_size\u001b[0m\u001b[0;34m=\u001b[0m\u001b[0;34m(\u001b[0m\u001b[0;36m100\u001b[0m\u001b[0;34m,\u001b[0m\u001b[0;36m150\u001b[0m\u001b[0;34m)\u001b[0m\u001b[0;34m)\u001b[0m\u001b[0;34m\u001b[0m\u001b[0;34m\u001b[0m\u001b[0m\n\u001b[0m\u001b[1;32m      6\u001b[0m   \u001b[0mimgplot\u001b[0m \u001b[0;34m=\u001b[0m \u001b[0mplt\u001b[0m\u001b[0;34m.\u001b[0m\u001b[0mimshow\u001b[0m\u001b[0;34m(\u001b[0m\u001b[0mimg\u001b[0m\u001b[0;34m)\u001b[0m\u001b[0;34m\u001b[0m\u001b[0;34m\u001b[0m\u001b[0m\n\u001b[1;32m      7\u001b[0m   \u001b[0mx\u001b[0m \u001b[0;34m=\u001b[0m \u001b[0mimage\u001b[0m\u001b[0;34m.\u001b[0m\u001b[0mimg_to_array\u001b[0m\u001b[0;34m(\u001b[0m\u001b[0mimg\u001b[0m\u001b[0;34m)\u001b[0m\u001b[0;34m\u001b[0m\u001b[0;34m\u001b[0m\u001b[0m\n",
            "\u001b[0;31mAttributeError\u001b[0m: module 'keras.preprocessing.image' has no attribute 'load_img'"
          ]
        }
      ],
      "source": [
        "uploaded = files.upload()\n",
        "\n",
        "for fn in uploaded.keys():\n",
        "  path = fn\n",
        "  img = image.load_img(path, target_size=(100,150))\n",
        "  imgplot = plt.imshow(img)\n",
        "  x = image.img_to_array(img)\n",
        "  x = np.expand_dims(x, axis=0)\n",
        "  img = np.vstack([x])\n",
        "\n",
        "predict_image(img)"
      ]
    }
  ],
  "metadata": {
    "colab": {
      "provenance": [],
      "include_colab_link": true
    },
    "kernelspec": {
      "display_name": "Python 3",
      "name": "python3"
    },
    "language_info": {
      "name": "python"
    }
  },
  "nbformat": 4,
  "nbformat_minor": 0
}